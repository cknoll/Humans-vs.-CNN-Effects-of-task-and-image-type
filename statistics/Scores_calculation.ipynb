{
 "cells": [
  {
   "cell_type": "markdown",
   "id": "3fd763c0",
   "metadata": {},
   "source": [
    "This notebooks offers code example for the calculation of the Dice-Score and Similarity Score used in the Article.\n",
    "As example the example heatmaps created in the \"human-eye-tracking-and-drawing\" folder are used."
   ]
  },
  {
   "cell_type": "code",
   "execution_count": 26,
   "id": "1f2dcd25",
   "metadata": {},
   "outputs": [],
   "source": [
    "import numpy as np\n",
    "import os\n",
    "import math\n",
    "from PIL import Image\n",
    "\n",
    "def get_image(path):\n",
    "    with open(os.path.abspath(path), 'rb') as f:\n",
    "        with Image.open(f) as img:\n",
    "            return img.convert('RGB')\n"
   ]
  },
  {
   "cell_type": "code",
   "execution_count": 27,
   "id": "e972ecea",
   "metadata": {},
   "outputs": [],
   "source": [
    "eyetracking_heatmap = get_image('images/eyetracking_heatmap.png')\n",
    "eyetracking_cutout = get_image('images/eyetracking_cutout.png')\n",
    "eyetracking_area = np.where(np.sum(eyetracking_cutout,axis=0)!=0,1,0)\n",
    "drawing_heatmap = get_image('images/drawing_heatmap.png')\n",
    "drawing_cutout = get_image('images/drawing_cutout.png')\n",
    "drawing_area = np.where(np.sum(drawing_cutout,axis=0)!=0,1,0)\n"
   ]
  },
  {
   "cell_type": "code",
   "execution_count": 28,
   "id": "831ab55a",
   "metadata": {},
   "outputs": [],
   "source": [
    "def dice_coefficient(mask1,mask2):\n",
    "    mask3 = mask1+mask2\n",
    "    mask_intersection = np.where(mask3 == 2,1,0)\n",
    "    nominator = np.sum(mask_intersection) * 2\n",
    "    denominator = np.sum(mask1) + np.sum(mask2)\n",
    "    result = nominator/denominator\n",
    "    return result\n",
    "\n",
    "def pearson_cc(map_1,map_2):\n",
    "        s_map_norm = (map_1 - np.mean(map_1))/np.std(map_1)\n",
    "        gt_norm = (map_2 - np.mean(map_2))/np.std(map_2)\n",
    "        a = s_map_norm\n",
    "        b = gt_norm\n",
    "        r = (a*b).sum() / math.sqrt((a*a).sum() * (b*b).sum());\n",
    "        return r\n"
   ]
  },
  {
   "cell_type": "code",
   "execution_count": 29,
   "id": "70480713",
   "metadata": {},
   "outputs": [
    {
     "name": "stdout",
     "output_type": "stream",
     "text": [
      "Dice_Coefficient:0.6183074265975821\n",
      "Pearson Correlation Coefficient: 0.6971999290686681\n"
     ]
    }
   ],
   "source": [
    "print(\"Dice_Coefficient:\" + str(dice_coefficient(drawing_area,eyetracking_area)))\n",
    "print(\"Pearson Correlation Coefficient: \" + str(pearson_cc(eyetracking_heatmap,drawing_heatmap)))"
   ]
  },
  {
   "cell_type": "code",
   "execution_count": null,
   "id": "ea521bc3",
   "metadata": {},
   "outputs": [],
   "source": []
  }
 ],
 "metadata": {
  "kernelspec": {
   "display_name": "Python 3 (ipykernel)",
   "language": "python",
   "name": "python3"
  },
  "language_info": {
   "codemirror_mode": {
    "name": "ipython",
    "version": 3
   },
   "file_extension": ".py",
   "mimetype": "text/x-python",
   "name": "python",
   "nbconvert_exporter": "python",
   "pygments_lexer": "ipython3",
   "version": "3.9.12"
  }
 },
 "nbformat": 4,
 "nbformat_minor": 5
}
